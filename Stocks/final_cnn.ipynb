{
 "cells": [
  {
   "cell_type": "code",
   "execution_count": 1,
   "id": "c38bfec6",
   "metadata": {
    "id": "c38bfec6"
   },
   "outputs": [],
   "source": [
    "import glob\n",
    "import numpy as np\n",
    "from sklearn.model_selection import train_test_split\n",
    "from PIL import Image"
   ]
  },
  {
   "cell_type": "code",
   "execution_count": null,
   "id": "2a734dc2",
   "metadata": {
    "id": "2a734dc2",
    "outputId": "cf391c29-c521-43af-96db-6928890cc559"
   },
   "outputs": [
    {
     "name": "stdout",
     "output_type": "stream",
     "text": [
      "보합 파일 길이 : 7105\n",
      "상승 파일 길이 : 4957\n",
      "하락 파일 길이 : 4560\n"
     ]
    }
   ],
   "source": [
    "# npy파일 만들기\n",
    "# groups_folder_path = './img'\n",
    "# categories = ['보합','상승','하락']\n",
    "# num_classes = len(categories)\n",
    "# image_w = 64\n",
    "# image_h = 64\n",
    "\n",
    "# pixels = image_h * image_w * 3\n",
    "  \n",
    "# x = []\n",
    "# y = []\n",
    "  \n",
    "# for idex, categorie in enumerate(categories):\n",
    "#     label = [0 for i in range(num_classes)]\n",
    "#     label[idex] = 1\n",
    "#     image_dir = groups_folder_path +'/'+ categorie\n",
    "#     files = glob.glob(image_dir + '/*.png')\n",
    "#     print(categorie, \"파일 길이 :\", len(files))\n",
    "    \n",
    "#     for i, f in enumerate(files):\n",
    "#         img = Image.open(f)\n",
    "#         img = img.convert('RGB')\n",
    "#         img = img.resize((image_w, image_h))\n",
    "#         data = np.asarray(img)\n",
    "        \n",
    "#         x.append(data)\n",
    "#         y.append(label)\n",
    "\n",
    "# x = np.array(x)\n",
    "# y = np.array(y)\n",
    "\n",
    "# x_train, x_test, y_train, y_test = train_test_split(x, y, test_size = 0.2, shuffle=True, random_state=1234)\n",
    "# xy = (x_train, x_test, y_train, y_test)\n",
    " \n",
    "# np.save(\"./img_data.npy\", xy)"
   ]
  },
  {
   "cell_type": "code",
   "execution_count": 2,
   "id": "3995e6af",
   "metadata": {
    "colab": {
     "base_uri": "https://localhost:8080/"
    },
    "id": "3995e6af",
    "outputId": "23a5ce90-35b5-46b7-d3d9-d08d581cb775"
   },
   "outputs": [
    {
     "name": "stdout",
     "output_type": "stream",
     "text": [
      "(13297, 64, 64, 3)\n",
      "(3325, 64, 64, 3)\n"
     ]
    }
   ],
   "source": [
    "x_train, x_test, y_train, y_test = np.load(\"./img_data.npy\", allow_pickle=True)\n",
    "print(x_train.shape)\n",
    "print(x_test.shape)"
   ]
  },
  {
   "cell_type": "code",
   "execution_count": 3,
   "id": "e1650119",
   "metadata": {
    "id": "e1650119"
   },
   "outputs": [],
   "source": [
    "x_train = x_train.astype(float) / 255\n",
    "x_test = x_test.astype(float) / 255"
   ]
  },
  {
   "cell_type": "code",
   "execution_count": 4,
   "id": "fdcb8e7b",
   "metadata": {
    "id": "fdcb8e7b"
   },
   "outputs": [],
   "source": [
    "num_epochs = 10\n",
    "batch_size = 100\n",
    "learning_rate = 0.001\n",
    "num_classes = 3"
   ]
  },
  {
   "cell_type": "code",
   "execution_count": 5,
   "id": "479c03ef",
   "metadata": {
    "id": "479c03ef"
   },
   "outputs": [],
   "source": [
    "from keras.models import Sequential\n",
    "from keras.layers import Dropout, Activation, Dense\n",
    "from keras.layers import Flatten, Convolution2D, MaxPooling2D\n",
    "from tensorflow.keras.callbacks import EarlyStopping, ModelCheckpoint\n",
    "from keras.models import load_model\n",
    " \n",
    "model = Sequential()\n",
    "model.add(Convolution2D(128, (3, 3), padding='same', activation='relu', input_shape=x_train.shape[1:]))\n",
    "model.add(MaxPooling2D(pool_size=(2, 2)))\n",
    "model.add(Dropout(0.25))\n",
    "  \n",
    "model.add(Convolution2D(64, (3, 3),  activation='relu'))\n",
    "model.add(MaxPooling2D(pool_size=(2, 2)))\n",
    "model.add(Dropout(0.25))\n",
    " \n",
    "model.add(Convolution2D(32, (3, 3), activation = 'relu'))\n",
    "model.add(MaxPooling2D(pool_size=(2, 2)))\n",
    "model.add(Dropout(0.25))\n",
    "  \n",
    "model.add(Flatten())\n",
    "model.add(Dense(64, activation = 'relu'))\n",
    "model.add(Dropout(0.5))\n",
    "model.add(Dense(32, activation = 'relu'))\n",
    "model.add(Dropout(0.5))\n",
    "model.add(Dense(num_classes,activation = 'softmax'))"
   ]
  },
  {
   "cell_type": "code",
   "execution_count": 8,
   "id": "19a906f5",
   "metadata": {},
   "outputs": [
    {
     "name": "stdout",
     "output_type": "stream",
     "text": [
      "Epoch 1/1000\n",
      "133/133 [==============================] - 73s 547ms/step - loss: 0.2160 - accuracy: 0.4285 - val_loss: 0.2153 - val_accuracy: 0.4232\n",
      "\n",
      "Epoch 00001: val_loss improved from inf to 0.21531, saving model to img_cnn2.h5\n",
      "Epoch 2/1000\n",
      "133/133 [==============================] - 73s 549ms/step - loss: 0.2115 - accuracy: 0.4484 - val_loss: 0.2081 - val_accuracy: 0.4671\n",
      "\n",
      "Epoch 00002: val_loss improved from 0.21531 to 0.20812, saving model to img_cnn2.h5\n",
      "Epoch 3/1000\n",
      "133/133 [==============================] - 71s 534ms/step - loss: 0.2094 - accuracy: 0.4612 - val_loss: 0.2073 - val_accuracy: 0.4728\n",
      "\n",
      "Epoch 00003: val_loss improved from 0.20812 to 0.20727, saving model to img_cnn2.h5\n",
      "Epoch 4/1000\n",
      "133/133 [==============================] - 71s 534ms/step - loss: 0.2087 - accuracy: 0.4645 - val_loss: 0.2071 - val_accuracy: 0.4707\n",
      "\n",
      "Epoch 00004: val_loss improved from 0.20727 to 0.20714, saving model to img_cnn2.h5\n",
      "Epoch 5/1000\n",
      "133/133 [==============================] - 71s 534ms/step - loss: 0.2084 - accuracy: 0.4646 - val_loss: 0.2069 - val_accuracy: 0.4704\n",
      "\n",
      "Epoch 00005: val_loss improved from 0.20714 to 0.20686, saving model to img_cnn2.h5\n",
      "Epoch 6/1000\n",
      "133/133 [==============================] - 71s 534ms/step - loss: 0.2074 - accuracy: 0.4705 - val_loss: 0.2060 - val_accuracy: 0.4746\n",
      "\n",
      "Epoch 00006: val_loss improved from 0.20686 to 0.20602, saving model to img_cnn2.h5\n",
      "Epoch 7/1000\n",
      "133/133 [==============================] - 71s 533ms/step - loss: 0.2071 - accuracy: 0.4673 - val_loss: 0.2048 - val_accuracy: 0.4710\n",
      "\n",
      "Epoch 00007: val_loss improved from 0.20602 to 0.20480, saving model to img_cnn2.h5\n",
      "Epoch 8/1000\n",
      "133/133 [==============================] - 71s 534ms/step - loss: 0.2065 - accuracy: 0.4694 - val_loss: 0.2048 - val_accuracy: 0.4710\n",
      "\n",
      "Epoch 00008: val_loss improved from 0.20480 to 0.20479, saving model to img_cnn2.h5\n",
      "Epoch 9/1000\n",
      "133/133 [==============================] - 72s 538ms/step - loss: 0.2056 - accuracy: 0.4736 - val_loss: 0.2046 - val_accuracy: 0.4707\n",
      "\n",
      "Epoch 00009: val_loss improved from 0.20479 to 0.20459, saving model to img_cnn2.h5\n",
      "Epoch 10/1000\n",
      "133/133 [==============================] - 71s 536ms/step - loss: 0.2053 - accuracy: 0.4709 - val_loss: 0.2045 - val_accuracy: 0.4686\n",
      "\n",
      "Epoch 00010: val_loss improved from 0.20459 to 0.20451, saving model to img_cnn2.h5\n",
      "Epoch 11/1000\n",
      "133/133 [==============================] - 72s 539ms/step - loss: 0.2056 - accuracy: 0.4736 - val_loss: 0.2046 - val_accuracy: 0.4740\n",
      "\n",
      "Epoch 00011: val_loss did not improve from 0.20451\n",
      "Epoch 12/1000\n",
      "133/133 [==============================] - 73s 546ms/step - loss: 0.2053 - accuracy: 0.4729 - val_loss: 0.2040 - val_accuracy: 0.4707\n",
      "\n",
      "Epoch 00012: val_loss improved from 0.20451 to 0.20403, saving model to img_cnn2.h5\n",
      "Epoch 13/1000\n",
      "133/133 [==============================] - 71s 534ms/step - loss: 0.2049 - accuracy: 0.4760 - val_loss: 0.2045 - val_accuracy: 0.4728\n",
      "\n",
      "Epoch 00013: val_loss did not improve from 0.20403\n",
      "Epoch 14/1000\n",
      "133/133 [==============================] - 71s 535ms/step - loss: 0.2042 - accuracy: 0.4742 - val_loss: 0.2043 - val_accuracy: 0.4716\n",
      "\n",
      "Epoch 00014: val_loss did not improve from 0.20403\n",
      "Epoch 15/1000\n",
      "133/133 [==============================] - 71s 538ms/step - loss: 0.2039 - accuracy: 0.4806 - val_loss: 0.2038 - val_accuracy: 0.4740\n",
      "\n",
      "Epoch 00015: val_loss improved from 0.20403 to 0.20381, saving model to img_cnn2.h5\n",
      "Epoch 16/1000\n",
      "133/133 [==============================] - 72s 541ms/step - loss: 0.2039 - accuracy: 0.4813 - val_loss: 0.2042 - val_accuracy: 0.4803\n",
      "\n",
      "Epoch 00016: val_loss did not improve from 0.20381\n",
      "Epoch 17/1000\n",
      "133/133 [==============================] - 73s 549ms/step - loss: 0.2032 - accuracy: 0.4839 - val_loss: 0.2039 - val_accuracy: 0.4749\n",
      "\n",
      "Epoch 00017: val_loss did not improve from 0.20381\n",
      "Epoch 18/1000\n",
      "133/133 [==============================] - 72s 545ms/step - loss: 0.2034 - accuracy: 0.4869 - val_loss: 0.2038 - val_accuracy: 0.4818\n",
      "\n",
      "Epoch 00018: val_loss improved from 0.20381 to 0.20375, saving model to img_cnn2.h5\n",
      "Epoch 19/1000\n",
      "133/133 [==============================] - 73s 548ms/step - loss: 0.2025 - accuracy: 0.4848 - val_loss: 0.2036 - val_accuracy: 0.4767\n",
      "\n",
      "Epoch 00019: val_loss improved from 0.20375 to 0.20360, saving model to img_cnn2.h5\n",
      "Epoch 20/1000\n",
      "133/133 [==============================] - 73s 546ms/step - loss: 0.2022 - accuracy: 0.4809 - val_loss: 0.2034 - val_accuracy: 0.4728\n",
      "\n",
      "Epoch 00020: val_loss improved from 0.20360 to 0.20337, saving model to img_cnn2.h5\n",
      "Epoch 21/1000\n",
      "133/133 [==============================] - 72s 544ms/step - loss: 0.2018 - accuracy: 0.4848 - val_loss: 0.2031 - val_accuracy: 0.4824\n",
      "\n",
      "Epoch 00021: val_loss improved from 0.20337 to 0.20310, saving model to img_cnn2.h5\n",
      "Epoch 22/1000\n",
      "133/133 [==============================] - 72s 541ms/step - loss: 0.2013 - accuracy: 0.4893 - val_loss: 0.2034 - val_accuracy: 0.4773\n",
      "\n",
      "Epoch 00022: val_loss did not improve from 0.20310\n",
      "Epoch 23/1000\n",
      "133/133 [==============================] - 73s 546ms/step - loss: 0.2005 - accuracy: 0.4926 - val_loss: 0.2033 - val_accuracy: 0.4806\n",
      "\n",
      "Epoch 00023: val_loss did not improve from 0.20310\n",
      "Epoch 24/1000\n",
      "133/133 [==============================] - 72s 542ms/step - loss: 0.2000 - accuracy: 0.4994 - val_loss: 0.2034 - val_accuracy: 0.4815\n",
      "\n",
      "Epoch 00024: val_loss did not improve from 0.20310\n",
      "Epoch 25/1000\n",
      "133/133 [==============================] - 73s 552ms/step - loss: 0.1997 - accuracy: 0.4966 - val_loss: 0.2032 - val_accuracy: 0.4854\n",
      "\n",
      "Epoch 00025: val_loss did not improve from 0.20310\n",
      "Epoch 26/1000\n",
      "133/133 [==============================] - 73s 549ms/step - loss: 0.1995 - accuracy: 0.5016 - val_loss: 0.2030 - val_accuracy: 0.4803\n",
      "\n",
      "Epoch 00026: val_loss improved from 0.20310 to 0.20297, saving model to img_cnn2.h5\n",
      "Epoch 27/1000\n",
      "133/133 [==============================] - 74s 557ms/step - loss: 0.1988 - accuracy: 0.4962 - val_loss: 0.2028 - val_accuracy: 0.4755\n",
      "\n",
      "Epoch 00027: val_loss improved from 0.20297 to 0.20282, saving model to img_cnn2.h5\n",
      "Epoch 28/1000\n",
      "133/133 [==============================] - 72s 541ms/step - loss: 0.1982 - accuracy: 0.5006 - val_loss: 0.2034 - val_accuracy: 0.4815\n",
      "\n",
      "Epoch 00028: val_loss did not improve from 0.20282\n",
      "Epoch 29/1000\n",
      "133/133 [==============================] - 72s 539ms/step - loss: 0.1981 - accuracy: 0.5021 - val_loss: 0.2030 - val_accuracy: 0.4791\n",
      "\n",
      "Epoch 00029: val_loss did not improve from 0.20282\n",
      "Epoch 30/1000\n",
      "133/133 [==============================] - 70s 528ms/step - loss: 0.1981 - accuracy: 0.5027 - val_loss: 0.2027 - val_accuracy: 0.4797\n",
      "\n",
      "Epoch 00030: val_loss improved from 0.20282 to 0.20275, saving model to img_cnn2.h5\n",
      "Epoch 31/1000\n",
      "133/133 [==============================] - 66s 497ms/step - loss: 0.1974 - accuracy: 0.5052 - val_loss: 0.2028 - val_accuracy: 0.4809\n",
      "\n",
      "Epoch 00031: val_loss did not improve from 0.20275\n",
      "Epoch 32/1000\n",
      "133/133 [==============================] - 66s 498ms/step - loss: 0.1971 - accuracy: 0.5104 - val_loss: 0.2030 - val_accuracy: 0.4821\n",
      "\n",
      "Epoch 00032: val_loss did not improve from 0.20275\n",
      "Epoch 33/1000\n",
      "133/133 [==============================] - 68s 509ms/step - loss: 0.1962 - accuracy: 0.5107 - val_loss: 0.2034 - val_accuracy: 0.4773\n",
      "\n",
      "Epoch 00033: val_loss did not improve from 0.20275\n",
      "Epoch 34/1000\n",
      "133/133 [==============================] - 65s 491ms/step - loss: 0.1968 - accuracy: 0.5058 - val_loss: 0.2028 - val_accuracy: 0.4773\n",
      "\n",
      "Epoch 00034: val_loss did not improve from 0.20275\n",
      "Epoch 35/1000\n",
      "133/133 [==============================] - 65s 490ms/step - loss: 0.1956 - accuracy: 0.5110 - val_loss: 0.2030 - val_accuracy: 0.4869\n",
      "\n",
      "Epoch 00035: val_loss did not improve from 0.20275\n",
      "Epoch 36/1000\n",
      "133/133 [==============================] - 65s 489ms/step - loss: 0.1954 - accuracy: 0.5090 - val_loss: 0.2031 - val_accuracy: 0.4842\n",
      "\n",
      "Epoch 00036: val_loss did not improve from 0.20275\n",
      "Epoch 37/1000\n",
      "133/133 [==============================] - 66s 494ms/step - loss: 0.1951 - accuracy: 0.5132 - val_loss: 0.2032 - val_accuracy: 0.4737\n",
      "\n",
      "Epoch 00037: val_loss did not improve from 0.20275\n",
      "Epoch 38/1000\n",
      "133/133 [==============================] - 65s 489ms/step - loss: 0.1951 - accuracy: 0.5104 - val_loss: 0.2031 - val_accuracy: 0.4806\n",
      "\n",
      "Epoch 00038: val_loss did not improve from 0.20275\n",
      "Epoch 39/1000\n"
     ]
    },
    {
     "name": "stdout",
     "output_type": "stream",
     "text": [
      "133/133 [==============================] - 65s 487ms/step - loss: 0.1941 - accuracy: 0.5183 - val_loss: 0.2032 - val_accuracy: 0.4722\n",
      "\n",
      "Epoch 00039: val_loss did not improve from 0.20275\n",
      "Epoch 40/1000\n",
      "133/133 [==============================] - 65s 486ms/step - loss: 0.1936 - accuracy: 0.5166 - val_loss: 0.2033 - val_accuracy: 0.4758\n",
      "\n",
      "Epoch 00040: val_loss did not improve from 0.20275\n",
      "Epoch 00040: early stopping\n"
     ]
    },
    {
     "data": {
      "image/png": "[encoded data removed]",
      "text/plain": [
       "<Figure size 432x288 with 1 Axes>"
      ]
     },
     "metadata": {
      "needs_background": "light"
     },
     "output_type": "display_data"
    }
   ],
   "source": [
    "es = EarlyStopping(monitor = 'val_loss', verbose = 1, patience = 10)\n",
    "mc = ModelCheckpoint('img_cnn.h5', monitor = 'val_loss', verbose = 1, save_best_only = True)\n",
    "model.compile(optimizer='adam', loss = 'categorical_crossentropy', metrics = ['accuracy'], loss_weights=[0.2,0.4,0.4])\n",
    "history = model.fit(x_train, y_train, batch_size = 100, epochs = 1000, validation_data = (x_test, y_test), callbacks=[es, mc])\n",
    "\n",
    "%matplotlib inline\n",
    "import matplotlib.pyplot as plt\n",
    "\n",
    "fig, loss_ax = plt.subplots()\n",
    "loss_ax.plot(history.history['loss'], 'y', label='train loss')\n",
    "loss_ax.plot(history.history['val_loss'], 'r', label='val loss')\n",
    "loss_ax.set_xlabel('epoch')\n",
    "loss_ax.set_ylabel('loss')\n",
    "\n",
    "plt.show()"
   ]
  },
  {
   "cell_type": "code",
   "execution_count": 9,
   "id": "8fd6c0d3",
   "metadata": {},
   "outputs": [
    {
     "name": "stdout",
     "output_type": "stream",
     "text": [
      "104/104 [==============================] - 3s 30ms/step - loss: 0.2027 - accuracy: 0.4797\n",
      "\n",
      " 테스트 정확도: 0.4797\n"
     ]
    }
   ],
   "source": [
    "loaded_model = load_model('img_cnn.h5')\n",
    "print(\"\\n 테스트 정확도: %.4f\" % (loaded_model.evaluate(x_test, y_test)[1]))"
   ]
  },
  {
   "cell_type": "code",
   "execution_count": null,
   "id": "0f10d6ee",
   "metadata": {
    "colab": {
     "base_uri": "https://localhost:8080/"
    },
    "id": "0f10d6ee",
    "outputId": "2427b6e8-3bbd-4715-8e0f-6505fe123e01"
   },
   "outputs": [
    {
     "name": "stdout",
     "output_type": "stream",
     "text": [
      "[0.33602422 0.49218157 0.17179422]\n",
      "[0 1 0]\n"
     ]
    }
   ],
   "source": [
    "predictions = model.predict(x_test)\n",
    "print(predictions[0])\n",
    "print(y_test[0])"
   ]
  }
 ],
 "metadata": {
  "colab": {
   "collapsed_sections": [],
   "name": "cnn.ipynb",
   "provenance": []
  },
  "kernelspec": {
   "display_name": "Python 3 (ipykernel)",
   "language": "python",
   "name": "python3"
  },
  "language_info": {
   "codemirror_mode": {
    "name": "ipython",
    "version": 3
   },
   "file_extension": ".py",
   "mimetype": "text/x-python",
   "name": "python",
   "nbconvert_exporter": "python",
   "pygments_lexer": "ipython3",
   "version": "3.8.1"
  }
 },
 "nbformat": 4,
 "nbformat_minor": 5
}
